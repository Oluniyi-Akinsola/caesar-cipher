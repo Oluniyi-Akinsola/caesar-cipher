{
 "cells": [
  {
   "cell_type": "code",
   "execution_count": null,
   "metadata": {},
   "outputs": [],
   "source": [
    "# Create letters list\n",
    "letters = ['a', 'b', 'c', 'd', 'e', 'f', 'g', 'h', 'i', 'j', 'k', 'l', 'm',\n",
    "           'n', 'o', 'p', 'q', 'r', 's', 't', 'u', 'v', 'w', 'x', 'y', 'z']\n",
    "\n",
    "# Define key and value\n",
    "key = 3\n",
    "value = 'innovative'\n",
    "\n",
    "# Loop over value and find new index in list based on key\n",
    "for str in value:\n",
    "    index = letters.index(str)\n",
    "    index += key\n",
    "    index %= 26\n",
    "    print(letters[index])"
   ]
  }
 ],
 "metadata": {
  "language_info": {
   "name": "python"
  },
  "orig_nbformat": 4
 },
 "nbformat": 4,
 "nbformat_minor": 2
}
