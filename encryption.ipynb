{
 "cells": [
  {
   "cell_type": "code",
   "execution_count": null,
   "metadata": {},
   "outputs": [],
   "source": [
    "# This a Caesar Cipher Encryption Python Program\n",
    "# This is only for my amusement but feel free to add to it or make any necessary updates\n",
    "\n",
    "def encrypt(key, message):\n",
    "    # The program can accept lower case and converts them into upper case\n",
    "    #message = mesage.upper()\n",
    "    letters = \"ABCDEFGHIJKLMNOPQRSTUVWXYZ\"\n",
    "    result = \"\"\n",
    "\n",
    "    for letter in message:\n",
    "        if letter in letters: \n",
    "            #if the letter is actually a letter, the program will find the corresponding ciphertext letter in the letters.\n",
    "            letter_index = (letters.find(letter) + key) % len(letters)\n",
    "\n",
    "            result = result + letters[letter_index]\n",
    "        else:\n",
    "            result = result + letter\n",
    "\n",
    "    return result"
   ]
  }
 ],
 "metadata": {
  "language_info": {
   "name": "python"
  },
  "orig_nbformat": 4
 },
 "nbformat": 4,
 "nbformat_minor": 2
}
